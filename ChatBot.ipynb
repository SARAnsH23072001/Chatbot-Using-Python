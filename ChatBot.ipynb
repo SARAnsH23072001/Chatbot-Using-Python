{
  "cells": [
    {
      "cell_type": "markdown",
      "metadata": {
        "id": "view-in-github",
        "colab_type": "text"
      },
      "source": [
        "<a href=\"https://colab.research.google.com/github/SARAnsH23072001/Chatbot-Using-Python/blob/main/ChatBot.ipynb\" target=\"_parent\"><img src=\"https://colab.research.google.com/assets/colab-badge.svg\" alt=\"Open In Colab\"/></a>"
      ]
    },
    {
      "cell_type": "code",
      "source": [
        "import pyttsx3 \n",
        "import speech_recognition as sr \n",
        "import datetime\n",
        "import wikipedia \n",
        "import webbrowser\n",
        "import os\n",
        "import re"
      ],
      "metadata": {
        "id": "S4vmD_wWMm-i",
        "outputId": "c47226be-7cc0-4ec8-cd80-5cbf980acb79",
        "colab": {
          "base_uri": "https://localhost:8080/",
          "height": 373
        }
      },
      "execution_count": 1,
      "outputs": [
        {
          "output_type": "error",
          "ename": "ModuleNotFoundError",
          "evalue": "ignored",
          "traceback": [
            "\u001b[0;31m---------------------------------------------------------------------------\u001b[0m",
            "\u001b[0;31mModuleNotFoundError\u001b[0m                       Traceback (most recent call last)",
            "\u001b[0;32m<ipython-input-1-6af0a77ba3e5>\u001b[0m in \u001b[0;36m<module>\u001b[0;34m\u001b[0m\n\u001b[0;32m----> 1\u001b[0;31m \u001b[0;32mimport\u001b[0m \u001b[0mpyttsx3\u001b[0m\u001b[0;34m\u001b[0m\u001b[0;34m\u001b[0m\u001b[0m\n\u001b[0m\u001b[1;32m      2\u001b[0m \u001b[0;32mimport\u001b[0m \u001b[0mspeech_recognition\u001b[0m \u001b[0;32mas\u001b[0m \u001b[0msr\u001b[0m\u001b[0;34m\u001b[0m\u001b[0;34m\u001b[0m\u001b[0m\n\u001b[1;32m      3\u001b[0m \u001b[0;32mimport\u001b[0m \u001b[0mdatetime\u001b[0m\u001b[0;34m\u001b[0m\u001b[0;34m\u001b[0m\u001b[0m\n\u001b[1;32m      4\u001b[0m \u001b[0;32mimport\u001b[0m \u001b[0mwikipedia\u001b[0m\u001b[0;34m\u001b[0m\u001b[0;34m\u001b[0m\u001b[0m\n\u001b[1;32m      5\u001b[0m \u001b[0;32mimport\u001b[0m \u001b[0mwebbrowser\u001b[0m\u001b[0;34m\u001b[0m\u001b[0;34m\u001b[0m\u001b[0m\n",
            "\u001b[0;31mModuleNotFoundError\u001b[0m: No module named 'pyttsx3'",
            "",
            "\u001b[0;31m---------------------------------------------------------------------------\u001b[0;32m\nNOTE: If your import is failing due to a missing package, you can\nmanually install dependencies using either !pip or !apt.\n\nTo view examples of installing some common dependencies, click the\n\"Open Examples\" button below.\n\u001b[0;31m---------------------------------------------------------------------------\u001b[0m\n"
          ],
          "errorDetails": {
            "actions": [
              {
                "action": "open_url",
                "actionText": "Open Examples",
                "url": "/notebooks/snippets/importing_libraries.ipynb"
              }
            ]
          }
        }
      ]
    },
    {
      "cell_type": "code",
      "source": [
        "engine = pyttsx3.init('sapi5')\n",
        "voices = engine.getProperty('voices')\n",
        "#print(voices[0].id)\n",
        "engine.setProperty('voice', voices[0].id)"
      ],
      "metadata": {
        "id": "hd9phWlqMmx6"
      },
      "execution_count": null,
      "outputs": []
    },
    {
      "cell_type": "code",
      "source": [
        "def speak(audio):\n",
        "    engine.say(audio)\n",
        "    engine.runAndWait()"
      ],
      "metadata": {
        "id": "fVjBUx8tOFJb"
      },
      "execution_count": null,
      "outputs": []
    },
    {
      "cell_type": "code",
      "source": [
        "def wishMe():\n",
        "    hour = int(datetime.datetime.now().hour)\n",
        "    if hour>=0 and hour<12:\n",
        "        speak(\"Good Morning!\")\n",
        "\n",
        "    elif hour>=12 and hour<18:\n",
        "        speak(\"Good Afternoon!\")   \n",
        "\n",
        "    else:\n",
        "        speak(\"Good Evening!\")  \n",
        "\n",
        "    speak(\"I am yor Chat Bot Sir. Please tell me how may I help you\")"
      ],
      "metadata": {
        "id": "T_jEco3HOGq6"
      },
      "execution_count": null,
      "outputs": []
    },
    {
      "cell_type": "code",
      "source": [
        "def takeCommand():\n",
        "    #It takes microphone input from the user and returns string output\n",
        "\n",
        "    r = sr.Recognizer()\n",
        "    with sr.Microphone() as source:\n",
        "        print(\"Listening...\")\n",
        "        r.pause_threshold = 1\n",
        "        audio = r.listen(source)\n",
        "\n",
        "    try:\n",
        "        print(\"Recognizing...\")    \n",
        "        query = r.recognize_google(audio, language='en-in')\n",
        "        print(f\"User said: {query}\\n\")\n",
        "\n",
        "    except Exception as e:\n",
        "        # print(e)\n",
        "        print(\"Say that again please...\")\n",
        "        speak(\"Say that again please\")  \n",
        "        return \"None\"\n",
        "    return query"
      ],
      "metadata": {
        "id": "j1u9polHOIac"
      },
      "execution_count": null,
      "outputs": []
    },
    {
      "cell_type": "code",
      "execution_count": null,
      "metadata": {
        "id": "nIWDLUhbMMak"
      },
      "outputs": [],
      "source": [
        "if __name__ == \"__main__\":\n",
        "    wishMe()\n",
        "    while True:\n",
        "        query = takecommand().lower()  \n",
        "\n",
        "        if 'wikipedia' in query:\n",
        "            speak('Searching Wikipedia...')\n",
        "            query = query.replace(\"wikipedia\", \"\")\n",
        "            results = wikipedia.summary(query, sentences=2)\n",
        "            speak(\"According to Wikipedia\")\n",
        "            print(results)\n",
        "            speak(results)\n",
        "\n",
        "        elif 'open youtube' in query:\n",
        "            webbrowser.open(\"https:\\\\www.youtube.com\")\n",
        "\n",
        "        elif 'open google' in query:\n",
        "            webbrowser.open(\"https:\\\\www.google.com\")\n",
        "\n",
        "        elif 'play music' in query:\n",
        "            #This the file path of Spotify on my Local System \n",
        "            spotify = \"C:\\\\Users\\\\Saransh\\\\AppData\\\\Roaming\\\\Spotify\\\\Spotify.exe\" \n",
        "            os.startfile(spotify)\n",
        "\n",
        "        elif 'show picture of' in query:\n",
        "            result=re.search(r'picture of .*',query)\n",
        "            webbrowser.open(\"https://www.google.com/search?q=\"+query[result.start():result.end()])\n",
        "            continue\n",
        "            \n",
        "        elif 'go to sleep' in query:\n",
        "            speak(\"ok sir, I am going to sleep. Have a nice day\")\n",
        "            print(\"Going to sleep...\")\n",
        "            print(\"Have a nice day Sir!\")\n",
        "            break\n",
        "            "
      ]
    }
  ],
  "metadata": {
    "kernelspec": {
      "display_name": "Python 3",
      "language": "python",
      "name": "python3"
    },
    "language_info": {
      "codemirror_mode": {
        "name": "ipython",
        "version": 3
      },
      "file_extension": ".py",
      "mimetype": "text/x-python",
      "name": "python",
      "nbconvert_exporter": "python",
      "pygments_lexer": "ipython3",
      "version": "3.7.6"
    },
    "colab": {
      "provenance": [],
      "include_colab_link": true
    }
  },
  "nbformat": 4,
  "nbformat_minor": 0
}