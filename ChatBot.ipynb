{
  "cells": [
    {
      "cell_type": "markdown",
      "metadata": {
        "id": "view-in-github",
        "colab_type": "text"
      },
      "source": [
        "<a href=\"https://colab.research.google.com/github/SARAnsH23072001/Chatbot-Using-Python/blob/main/ChatBot.ipynb\" target=\"_parent\"><img src=\"https://colab.research.google.com/assets/colab-badge.svg\" alt=\"Open In Colab\"/></a>"
      ]
    },
    {
      "cell_type": "code",
      "execution_count": null,
      "metadata": {
        "id": "nIWDLUhbMMak"
      },
      "outputs": [],
      "source": [
        "import pyttsx3\n",
        "import speech_recognition as sr\n",
        "import wikipedia\n",
        "import datetime\n",
        "import os\n",
        "import webbrowser\n",
        "\n",
        "engine = pyttsx3.init('sapi5')\n",
        "voices = engine.getProperty('voices')\n",
        "\n",
        "engine.setProperty('voice', voices[1].id)\n",
        "\n",
        "def speak(audio):\n",
        "    engine.say(audio)\n",
        "    engine.runAndWait()\n",
        "  \n",
        "def wishMe():\n",
        "    hour = int(datetime.datetime.now().hour)\n",
        "    if True:\n",
        "        speak(\"Welcome Back sir!\")\n",
        "        speak(\"How may I help you sir!\")\n",
        "\n",
        "def takecommand():\n",
        "    r = sr.Recognizer()  \n",
        "    with sr.Microphone()as source:\n",
        "        print(\"Listening...\")\n",
        "        r.pause_threshold = 1\n",
        "        r.adjust_for_ambient_noise(source) \n",
        "        audio = r.listen(source)\n",
        "    try:\n",
        "        print(\"Recognizing...\")\n",
        "        query = r.recognize_google(audio, language='en-in')\n",
        "        print(f\"You: {query}\\n\")\n",
        "        \n",
        "       \n",
        "    except Exception as e:\n",
        "        print(e)\n",
        "        print(\"Sorry I didnt get that , Please say that again\")\n",
        "        speak(\"Sorry I didnt get that , Please say that again\")\n",
        "        return \"None\"\n",
        "    return query\n",
        "\n",
        "if __name__ == \"__main__\":\n",
        "    wishMe()\n",
        "    while True:\n",
        "        query = takecommand().lower()  \n",
        "\n",
        "        if 'wikipedia' in query:\n",
        "            speak(\"Searching wikipedia\")\n",
        "            query = query.replace(\"wikipedia\", \"\")\n",
        "            results = wikipedia.summary(query, sentences=2)\n",
        "            speak(\"According to wikipedia\")\n",
        "            print(results)\n",
        "            speak(results)\n",
        "\n",
        "        elif 'open youtube' in query:\n",
        "            webbrowser.open(\"https:\\\\www.youtube.com\")\n",
        "\n",
        "        elif 'open google' in query:\n",
        "            webbrowser.open(\"https:\\\\www.google.com\")\n",
        "\n",
        "        elif 'play music' in query:\n",
        "            music_dir ='C:\\\\Users\\Sagar Solanki\\Music'\n",
        "            songs = os.listdir(music_dir)\n",
        "            print(songs)\n",
        "            os.startfile(os.path.join(music_dir, songs[0]))\n",
        "            "
      ]
    }
  ],
  "metadata": {
    "kernelspec": {
      "display_name": "Python 3",
      "language": "python",
      "name": "python3"
    },
    "language_info": {
      "codemirror_mode": {
        "name": "ipython",
        "version": 3
      },
      "file_extension": ".py",
      "mimetype": "text/x-python",
      "name": "python",
      "nbconvert_exporter": "python",
      "pygments_lexer": "ipython3",
      "version": "3.7.6"
    },
    "colab": {
      "provenance": [],
      "include_colab_link": true
    }
  },
  "nbformat": 4,
  "nbformat_minor": 0
}